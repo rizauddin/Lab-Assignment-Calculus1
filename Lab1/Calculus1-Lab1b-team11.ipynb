{
 "cells": [
  {
   "cell_type": "markdown",
   "metadata": {
    "id": "QL_b5c0JPxM4"
   },
   "source": [
    "# Calculus 1 - Lab 1b - Team 11"
   ]
  },
  {
   "cell_type": "code",
   "execution_count": null,
   "metadata": {
    "id": "PcZVEfVgPxM7"
   },
   "outputs": [],
   "source": [
    "#%matplotlib notebook\n",
    "%matplotlib inline\n",
    "#init_session(use_unicode=True)\n",
    "from __future__ import division\n",
    "from sympy import *\n",
    "x, y, z, t = symbols('x y z t', real=True)\n",
    "k, m, n = symbols('k m n', integer=True)\n",
    "f, g, h = symbols('f g h', cls=Function)\n",
    "init_printing()"
   ]
  },
  {
   "cell_type": "markdown",
   "metadata": {
    "id": "-MURM5iWPxM9"
   },
   "source": [
    "<hr />"
   ]
  },
  {
   "cell_type": "markdown",
   "metadata": {
    "id": "MHmNQRO0PxM-"
   },
   "source": [
    "To run a cell: Shift+Enter.<br />\n",
    "\n",
    "To print:\n",
    "- Cell > Run All.<br />\n",
    "- Make sure no there is no error. <br />\n",
    "- File -> Print Preview."
   ]
  },
  {
   "cell_type": "markdown",
   "metadata": {
    "collapsed": true,
    "id": "izHGr5Z7PxM-"
   },
   "source": [
    "Print your name using print function. <br />\n",
    "\n",
    "Example:\n",
    "print(\"Ali bin Ahmad\")"
   ]
  },
  {
   "cell_type": "code",
   "execution_count": null,
   "metadata": {
    "collapsed": true,
    "id": "HdEJDVGPPxM_"
   },
   "outputs": [],
   "source": []
  },
  {
   "cell_type": "markdown",
   "metadata": {
    "id": "WmtPz59vPxM_"
   },
   "source": [
    "Print your student id using print function."
   ]
  },
  {
   "cell_type": "code",
   "execution_count": null,
   "metadata": {
    "collapsed": true,
    "id": "aiKCorP6PxNA"
   },
   "outputs": [],
   "source": []
  },
  {
   "cell_type": "markdown",
   "metadata": {
    "id": "jUGKVgOcPxNA"
   },
   "source": [
    "Print your group using print function."
   ]
  },
  {
   "cell_type": "code",
   "execution_count": null,
   "metadata": {
    "id": "OJIaQqXMPxNB"
   },
   "outputs": [],
   "source": []
  },
  {
   "cell_type": "markdown",
   "metadata": {
    "id": "rruRs13NPxNB"
   },
   "source": [
    "## Sketch the graph of $\\displaystyle f(x) = \\frac{1-x}{x-2}$."
   ]
  },
  {
   "cell_type": "markdown",
   "metadata": {
    "id": "BRQ5zmFcPxNB"
   },
   "source": [
    "Define function f.\n",
    "\n",
    "Example: f = x + 4"
   ]
  },
  {
   "cell_type": "code",
   "execution_count": null,
   "metadata": {
    "id": "zIajOEf-PxNC"
   },
   "outputs": [],
   "source": []
  },
  {
   "cell_type": "markdown",
   "metadata": {
    "id": "iyj63eFdPxNC"
   },
   "source": [
    "x-intercepts. When $y=0$, $x=?$\n",
    "\n",
    "Use function solve (Sympy Docs https://docs.sympy.org/latest/modules/solvers/solvers.html#solvers)."
   ]
  },
  {
   "cell_type": "code",
   "execution_count": null,
   "metadata": {
    "id": "6Jt1WOozPxND"
   },
   "outputs": [],
   "source": []
  },
  {
   "cell_type": "markdown",
   "metadata": {
    "id": "brk4runGPxND"
   },
   "source": [
    "x-intercept: "
   ]
  },
  {
   "cell_type": "markdown",
   "metadata": {
    "id": "iuvYtVSBPxND"
   },
   "source": [
    "Answer:"
   ]
  },
  {
   "cell_type": "markdown",
   "metadata": {
    "id": "re6wOO-yPxND"
   },
   "source": [
    "y-intercepts. When $x=0$, $y=?$\n",
    "\n",
    "Use function subs (Sympy Docs https://docs.sympy.org/latest/tutorial/basic_operations.html#substitution)."
   ]
  },
  {
   "cell_type": "code",
   "execution_count": null,
   "metadata": {
    "id": "N11_nNZhPxNE"
   },
   "outputs": [],
   "source": []
  },
  {
   "cell_type": "markdown",
   "metadata": {
    "id": "FYdAoWS_PxNE"
   },
   "source": [
    "y-intercept:"
   ]
  },
  {
   "cell_type": "markdown",
   "metadata": {
    "id": "yZQTvuHcPxNE"
   },
   "source": [
    "Answer:"
   ]
  },
  {
   "cell_type": "markdown",
   "metadata": {
    "id": "qqyJUhxBPxNE"
   },
   "source": [
    "## Critical Value(s)"
   ]
  },
  {
   "cell_type": "markdown",
   "metadata": {
    "id": "jtlirkRgPxNE"
   },
   "source": [
    "Find the first derivative, $f'(x)$, and assign it to variable called f1. <br />\n",
    "\n",
    "Use function diff (Sympy Docs https://docs.sympy.org/latest/tutorial/calculus.html#derivatives).\n",
    "\n",
    "Print f1 using function pprint (Sympy Docs https://docs.sympy.org/latest/tutorial/printing.html#ascii-pretty-printer)."
   ]
  },
  {
   "cell_type": "code",
   "execution_count": null,
   "metadata": {
    "id": "aXTUVuU_PxNF"
   },
   "outputs": [],
   "source": []
  },
  {
   "cell_type": "markdown",
   "metadata": {
    "id": "nBZFxhlaPxNF"
   },
   "source": [
    "Make the denominator the same using together function. Assign the result back to function f1. Print f1 using pprint.\n",
    "\n",
    "Use function together (Sympy Docs https://docs.sympy.org/latest/modules/polys/reference.html#manipulation-of-rational-functions)."
   ]
  },
  {
   "cell_type": "code",
   "execution_count": null,
   "metadata": {
    "id": "uYB7LCsSPxNF"
   },
   "outputs": [],
   "source": []
  },
  {
   "cell_type": "markdown",
   "metadata": {
    "id": "C9Ep32GePxNF"
   },
   "source": [
    "Solve $f'(x)=0$.\n",
    "\n",
    "Use function solve."
   ]
  },
  {
   "cell_type": "code",
   "execution_count": null,
   "metadata": {
    "id": "4Rka1wY6PxNF"
   },
   "outputs": [],
   "source": []
  },
  {
   "cell_type": "markdown",
   "metadata": {
    "id": "LENGu-4fPxNG"
   },
   "source": [
    "But, the function does not exist if the denominator is equal to zero."
   ]
  },
  {
   "cell_type": "markdown",
   "metadata": {
    "id": "Myog6PiJPxNG"
   },
   "source": [
    "Solve for the denominator equal to zero.\n",
    "\n",
    "Use function solve."
   ]
  },
  {
   "cell_type": "code",
   "execution_count": null,
   "metadata": {
    "id": "PINkhoqcPxNG"
   },
   "outputs": [],
   "source": []
  },
  {
   "cell_type": "markdown",
   "metadata": {
    "id": "Gmj0A6cyPxNG"
   },
   "source": [
    "Critical value:"
   ]
  },
  {
   "cell_type": "markdown",
   "metadata": {
    "id": "qBDX5G9cPxNG"
   },
   "source": [
    "Answer:"
   ]
  },
  {
   "cell_type": "markdown",
   "metadata": {
    "id": "IDjFS3z4PxNG"
   },
   "source": [
    "## Interval of decreasing/increasing."
   ]
  },
  {
   "cell_type": "markdown",
   "metadata": {
    "id": "mAFvVXvVPxNH"
   },
   "source": [
    "$f'(x<c)$"
   ]
  },
  {
   "cell_type": "code",
   "execution_count": null,
   "metadata": {
    "id": "vaon3My7PxNH"
   },
   "outputs": [],
   "source": []
  },
  {
   "cell_type": "markdown",
   "metadata": {
    "id": "f1KMk1ZaPxNH"
   },
   "source": [
    "The function is"
   ]
  },
  {
   "cell_type": "markdown",
   "metadata": {
    "id": "c4wvH4rHPxNH"
   },
   "source": [
    "Answer:"
   ]
  },
  {
   "cell_type": "markdown",
   "metadata": {
    "id": "XRDS8osAPxNH"
   },
   "source": [
    "$f'(x>c)$"
   ]
  },
  {
   "cell_type": "code",
   "execution_count": null,
   "metadata": {
    "id": "foecQygEPxNH"
   },
   "outputs": [],
   "source": []
  },
  {
   "cell_type": "markdown",
   "metadata": {
    "id": "-mUj1fzNPxNH"
   },
   "source": [
    "The function is"
   ]
  },
  {
   "cell_type": "markdown",
   "metadata": {
    "id": "l8HvaDBKPxNH"
   },
   "source": [
    "Answer:"
   ]
  },
  {
   "cell_type": "markdown",
   "metadata": {
    "id": "o18f8OtbPxNH"
   },
   "source": [
    "## Maximum or Minimum point"
   ]
  },
  {
   "cell_type": "markdown",
   "metadata": {
    "id": "jGGPI8M7PxNI"
   },
   "source": [
    "Find the second derivative, $f''(x)$, and assign it to variable called f2. Print f2."
   ]
  },
  {
   "cell_type": "code",
   "execution_count": null,
   "metadata": {
    "id": "uyTZz1I_PxNI"
   },
   "outputs": [],
   "source": []
  },
  {
   "cell_type": "markdown",
   "metadata": {
    "id": "GWgfWLQYPxNI"
   },
   "source": [
    "Find the value of $f''$ at the critical value. <br />\n",
    "Note: zoo means undefined."
   ]
  },
  {
   "cell_type": "code",
   "execution_count": null,
   "metadata": {
    "id": "H-ZStu2oPxNI"
   },
   "outputs": [],
   "source": []
  },
  {
   "cell_type": "markdown",
   "metadata": {
    "id": "epJA6y1zPxNI"
   },
   "source": [
    "Extremum point:"
   ]
  },
  {
   "cell_type": "markdown",
   "metadata": {
    "id": "uByC9s6NPxNI"
   },
   "source": [
    "Answer:"
   ]
  },
  {
   "cell_type": "markdown",
   "metadata": {
    "id": "sCG76NF9PxNI"
   },
   "source": [
    "## Concavity"
   ]
  },
  {
   "cell_type": "markdown",
   "metadata": {
    "id": "Fn3eT8nxPxNI"
   },
   "source": [
    "Solve the second derivative equation for $x$.\n",
    "\n",
    "Use function solve."
   ]
  },
  {
   "cell_type": "code",
   "execution_count": null,
   "metadata": {
    "id": "reCdFRCqPxNI"
   },
   "outputs": [],
   "source": []
  },
  {
   "cell_type": "markdown",
   "metadata": {
    "id": "lwT4fzfBPxNI"
   },
   "source": [
    "$f''(x < c)$"
   ]
  },
  {
   "cell_type": "markdown",
   "metadata": {
    "id": "O2Mty1pBPxNI"
   },
   "source": [
    "Use function subs."
   ]
  },
  {
   "cell_type": "code",
   "execution_count": null,
   "metadata": {
    "id": "IZaG7kU3PxNJ"
   },
   "outputs": [],
   "source": []
  },
  {
   "cell_type": "markdown",
   "metadata": {
    "id": "i7AG1dajPxNJ"
   },
   "source": [
    "The function is "
   ]
  },
  {
   "cell_type": "markdown",
   "metadata": {
    "id": "wXQ9tLF1PxNJ"
   },
   "source": [
    "Answer:"
   ]
  },
  {
   "cell_type": "markdown",
   "metadata": {
    "id": "pHDE7CHkPxNJ"
   },
   "source": [
    "$f''(x > c)$"
   ]
  },
  {
   "cell_type": "code",
   "execution_count": null,
   "metadata": {
    "id": "mKk2opfzPxNJ"
   },
   "outputs": [],
   "source": []
  },
  {
   "cell_type": "markdown",
   "metadata": {
    "id": "78LsaZ87PxNJ"
   },
   "source": [
    "The function is "
   ]
  },
  {
   "cell_type": "markdown",
   "metadata": {
    "id": "E5BSnOEWPxNJ"
   },
   "source": [
    "Answer:"
   ]
  },
  {
   "cell_type": "markdown",
   "metadata": {
    "id": "66k2MBsePxNJ"
   },
   "source": [
    "## Horizontal Aymptote"
   ]
  },
  {
   "cell_type": "markdown",
   "metadata": {
    "id": "G7pqOM8pPxNJ"
   },
   "source": [
    "Limit as f approaches positive infinity."
   ]
  },
  {
   "cell_type": "markdown",
   "metadata": {
    "id": "JYhQ9lBtPxNJ"
   },
   "source": [
    "Use limit function (Sympy Docs https://docs.sympy.org/latest/tutorial/calculus.html#limits)."
   ]
  },
  {
   "cell_type": "code",
   "execution_count": null,
   "metadata": {
    "id": "ZUUSoxq1PxNJ"
   },
   "outputs": [],
   "source": []
  },
  {
   "cell_type": "markdown",
   "metadata": {
    "id": "OBWhKMZvPxNK"
   },
   "source": [
    "Limit as f approaches negative infinity."
   ]
  },
  {
   "cell_type": "markdown",
   "metadata": {
    "id": "qtQjzxq6PxNK"
   },
   "source": [
    "Use limit function (Sympy Docs https://docs.sympy.org/latest/tutorial/calculus.html#limits)."
   ]
  },
  {
   "cell_type": "code",
   "execution_count": null,
   "metadata": {
    "id": "10SGHnQ-PxNK"
   },
   "outputs": [],
   "source": []
  },
  {
   "cell_type": "markdown",
   "metadata": {
    "id": "gpHjXVQuPxNK"
   },
   "source": [
    "Horizontal asymptote:"
   ]
  },
  {
   "cell_type": "markdown",
   "metadata": {
    "id": "TMdX2TPQPxNK"
   },
   "source": [
    "Answer:"
   ]
  },
  {
   "cell_type": "markdown",
   "metadata": {
    "id": "G-TMWsAdPxNK"
   },
   "source": [
    "## Vertical Asymptote"
   ]
  },
  {
   "cell_type": "markdown",
   "metadata": {
    "id": "ULyXwYV_PxNK"
   },
   "source": [
    "Limit from the left and the right of the critical value that comes from where the function is undefined."
   ]
  },
  {
   "cell_type": "markdown",
   "metadata": {
    "id": "aa8UrA5KPxNK"
   },
   "source": [
    "Limit from left.\n",
    "\n",
    "Use limit function."
   ]
  },
  {
   "cell_type": "code",
   "execution_count": null,
   "metadata": {
    "id": "G-nQpaSXPxNK"
   },
   "outputs": [],
   "source": []
  },
  {
   "cell_type": "markdown",
   "metadata": {
    "id": "j3CkYfGaPxNK"
   },
   "source": [
    "Limit from right.\n",
    "\n",
    "Use limit function."
   ]
  },
  {
   "cell_type": "code",
   "execution_count": null,
   "metadata": {
    "id": "9dzH-fdkPxNL"
   },
   "outputs": [],
   "source": []
  },
  {
   "cell_type": "markdown",
   "metadata": {
    "id": "pjw2ZrPOPxNL"
   },
   "source": [
    "## Plot the function"
   ]
  },
  {
   "cell_type": "markdown",
   "metadata": {
    "id": "L7HDV5foPxNL"
   },
   "source": [
    "Use function plot to plot the function (Sympy Docs https://docs.sympy.org/latest/modules/plotting.html).\n",
    "\n",
    "Set the limit for y-axis from -6 to 10 by adding ylim parameter."
   ]
  },
  {
   "cell_type": "code",
   "execution_count": null,
   "metadata": {
    "id": "UMszCzBlPxNL"
   },
   "outputs": [],
   "source": []
  }
 ],
 "metadata": {
  "colab": {
   "name": "Calculus1-Lab1b.ipynb",
   "provenance": []
  },
  "kernelspec": {
   "display_name": "Python 3 (ipykernel)",
   "language": "python",
   "name": "python3"
  },
  "language_info": {
   "codemirror_mode": {
    "name": "ipython",
    "version": 3
   },
   "file_extension": ".py",
   "mimetype": "text/x-python",
   "name": "python",
   "nbconvert_exporter": "python",
   "pygments_lexer": "ipython3",
   "version": "3.9.13"
  }
 },
 "nbformat": 4,
 "nbformat_minor": 1
}
